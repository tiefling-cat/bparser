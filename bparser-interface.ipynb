{
 "cells": [
  {
   "cell_type": "markdown",
   "metadata": {},
   "source": [
    "## Intro\n",
    "When I was younger and less pythonic as I am now, I've made a python module to parse babenko synonym dictionary and extract verb classes and synsets from there. The trick was that one couldn't utilise the power of xml.etree as the xml representing the dictionary was broken and had somewhat irregular structure. As such, I parsed it as plain text using regular expressions, patches, crutches, and some profanity. The structure of the module is somewhat complicated, so I created this ipython/jupyter notebook to serve as part-interface, part-userguide to that module. "
   ]
  },
  {
   "cell_type": "markdown",
   "metadata": {},
   "source": [
    "First, to load the dictionary, you have to execute the following cell and wait a sec. Set check_em option into True to see synsets parsed with errors (there are not much, but there are some)."
   ]
  },
  {
   "cell_type": "code",
   "execution_count": null,
   "metadata": {
    "collapsed": false,
    "scrolled": false
   },
   "outputs": [],
   "source": [
    "import bparser\n",
    "classes, synsets, chunks = bparser.parse_babenko(check_em=False)"
   ]
  },
  {
   "cell_type": "markdown",
   "metadata": {},
   "source": [
    "### Total lemma count\n",
    "This is how you get the count of different lemmas throughout the synsets."
   ]
  },
  {
   "cell_type": "code",
   "execution_count": null,
   "metadata": {
    "collapsed": false
   },
   "outputs": [],
   "source": [
    "print(synsets.lemma_count())"
   ]
  },
  {
   "cell_type": "markdown",
   "metadata": {},
   "source": [
    "## Working with synsets\n",
    "You can just print out all synsets."
   ]
  },
  {
   "cell_type": "code",
   "execution_count": null,
   "metadata": {
    "collapsed": false
   },
   "outputs": [],
   "source": [
    "print(synsets)"
   ]
  },
  {
   "cell_type": "markdown",
   "metadata": {},
   "source": [
    "Here's an example of how you get yourself a synset by index. Though, the numbers don't say much. Looks no better than just asking for a random synset."
   ]
  },
  {
   "cell_type": "code",
   "execution_count": null,
   "metadata": {
    "collapsed": false
   },
   "outputs": [],
   "source": [
    "print(synsets.list[3])"
   ]
  },
  {
   "cell_type": "markdown",
   "metadata": {},
   "source": [
    "So this here is how you get all synsets in a category (the lower class)."
   ]
  },
  {
   "cell_type": "code",
   "execution_count": null,
   "metadata": {
    "collapsed": false,
    "scrolled": true
   },
   "outputs": [],
   "source": [
    "print(synsets.bycategory('Страдание'))"
   ]
  },
  {
   "cell_type": "markdown",
   "metadata": {},
   "source": [
    "## Matching synsets\n",
    "The following two functions were created specifically to check if there is a synset in Babenko dictionary that resembles what you got yourself from somwhere else. They are followed by two examples of usage."
   ]
  },
  {
   "cell_type": "code",
   "execution_count": null,
   "metadata": {
    "collapsed": true
   },
   "outputs": [],
   "source": [
    "def match_synsets(bsynset, synset):\n",
    "    \"\"\"\n",
    "    Return number of lemmas that are shared by bsynset and synset\n",
    "    \"\"\"\n",
    "    match_number = 0\n",
    "    synset = set(synset)\n",
    "    for word in bsynset.synonyms:\n",
    "        if word.lemma in synset:\n",
    "            match_number += 1    \n",
    "    return match_number\n",
    "\n",
    "def find_matching_synsets(babenko, synset, minimal_match_number=None):\n",
    "    \"\"\"\n",
    "    Return all synsets from babenko that share at least\n",
    "    minimal_match_number lemmas with synset.\n",
    "    \n",
    "    If minimal_match_number not specified, only those babenko synsets\n",
    "    that include all lemmas from synset are returned.\n",
    "    \"\"\"\n",
    "    if minimal_match_number is None:\n",
    "        minimal_match_number = len(synset)\n",
    "    matches = []\n",
    "    for bsynset in babenko.list:\n",
    "        match_number = match_synsets(bsynset, synset)\n",
    "        if match_number >= minimal_match_number:\n",
    "            matches.append(bsynset)\n",
    "    return matches"
   ]
  },
  {
   "cell_type": "code",
   "execution_count": null,
   "metadata": {
    "collapsed": false,
    "scrolled": true
   },
   "outputs": [],
   "source": [
    "fall1 = ['течь', 'бежать']\n",
    "matches = find_matching_synsets(synsets, fall1)\n",
    "for match in matches:\n",
    "    print(match)"
   ]
  },
  {
   "cell_type": "code",
   "execution_count": null,
   "metadata": {
    "collapsed": false,
    "scrolled": true
   },
   "outputs": [],
   "source": [
    "fall2 = ['падать', 'низвергаться', 'свергаться', 'повергаться']\n",
    "matches = find_matching_synsets(synsets, fall2, minimal_match_number=3)\n",
    "for match in matches:\n",
    "    print(match)"
   ]
  },
  {
   "cell_type": "code",
   "execution_count": null,
   "metadata": {
    "collapsed": true
   },
   "outputs": [],
   "source": []
  }
 ],
 "metadata": {
  "kernelspec": {
   "display_name": "Python 3",
   "language": "python",
   "name": "python3"
  },
  "language_info": {
   "codemirror_mode": {
    "name": "ipython",
    "version": 3
   },
   "file_extension": ".py",
   "mimetype": "text/x-python",
   "name": "python",
   "nbconvert_exporter": "python",
   "pygments_lexer": "ipython3",
   "version": "3.4.3"
  }
 },
 "nbformat": 4,
 "nbformat_minor": 0
}
